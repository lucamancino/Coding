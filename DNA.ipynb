{
 "cells": [
  {
   "cell_type": "code",
   "execution_count": 1,
   "metadata": {},
   "outputs": [],
   "source": [
    "# DNA COMPUTING FUNDAMENTALS\n",
    "\n",
    "# Function 1: how many times does a certain base occur in the DNA string? \n",
    "# Function 2: how many times does a certain pair of bases occur in the DNA string? "
   ]
  },
  {
   "cell_type": "code",
   "execution_count": 2,
   "metadata": {},
   "outputs": [],
   "source": [
    "import random"
   ]
  },
  {
   "cell_type": "code",
   "execution_count": 3,
   "metadata": {},
   "outputs": [],
   "source": [
    "# FUNCTION 1: DNA BASE_COUNTING\n",
    "\n",
    "def base_counting(dna, base):\n",
    "    \"\"\"\n",
    "    This function counts the number of a specific base in a specific DNA\n",
    "    \"\"\"\n",
    "    pp = 0; \n",
    "    dna = list(dna);\n",
    "    dna_len = len(dna); \n",
    "    for jj in range(dna_len):\n",
    "        if dna[jj] == base:\n",
    "            pp += 1;\n",
    "            \n",
    "    return pp; "
   ]
  },
  {
   "cell_type": "code",
   "execution_count": 4,
   "metadata": {},
   "outputs": [],
   "source": [
    "# FUNCTION 2: DNA_FRAGMENTS_COUNTING\n",
    "\n",
    "def fragments_counting(dna, fragment):\n",
    "    \"\"\"\n",
    "    This function evaluates how many fragments of two bases there are in a specific DNA\n",
    "    \"\"\"\n",
    "    pp = 0;                                 # Counter\n",
    "    dna = list(dna);                        # Transform the text in a list of string values \n",
    "    fragment = list(fragment);              # Transform the text in a list of string values \n",
    "    \n",
    "    dna_len = len(dna); \n",
    "    for jj in range(dna_len-1):\n",
    "        if dna[jj] == fragment[0] and dna[jj + 1] == fragment[1]:\n",
    "            pp += 1; \n",
    "            \n",
    "    return pp; "
   ]
  },
  {
   "cell_type": "code",
   "execution_count": 5,
   "metadata": {},
   "outputs": [],
   "source": [
    "# GLOBAL VARIABLES\n",
    "\n",
    "dna_len = 100;\n",
    "dna_bases = 'ACGT'\n",
    "\n",
    "list_of_dna_bases = list(dna_bases)"
   ]
  },
  {
   "cell_type": "code",
   "execution_count": 6,
   "metadata": {},
   "outputs": [],
   "source": [
    "# DNA 1: only adenines\n",
    "\n",
    "adenine = 'A'\n",
    "dna_1 = adenine*dna_len\n",
    "\n",
    "\n",
    "\n",
    "# DNA 2 \n",
    "dna_2 = []; # First step: we define dna_2 as an empty list \n",
    "\n",
    "for jj in range(dna_len):\n",
    "    \"\"\"\n",
    "    We randomly pick a base in the list of lists and we generate a random list of bases. \n",
    "    \"\"\"\n",
    "    dna_2.append(random.choice(list_of_dna_bases))\n",
    "\n",
    "dna_2 = ''.join(dna_2)"
   ]
  },
  {
   "cell_type": "code",
   "execution_count": 7,
   "metadata": {},
   "outputs": [
    {
     "name": "stdout",
     "output_type": "stream",
     "text": [
      "1st DNA: AAAAAAAAAAAAAAAAAAAAAAAAAAAAAAAAAAAAAAAAAAAAAAAAAAAAAAAAAAAAAAAAAAAAAAAAAAAAAAAAAAAAAAAAAAAAAAAAAAAA\n",
      "2nd DNA: GAAACAACTGAAGAGTGTATCAAAGCCGTCAGAGCTGAAGCATAGCTTGAATGATCAGAAAGTAGTGGCCTACTGAACTGTCGTTCTTAAAAGTTCCTTG\n"
     ]
    }
   ],
   "source": [
    "# Here there are the two DNA texts\n",
    "print('1st DNA:', dna_1)\n",
    "print('2nd DNA:', dna_2)"
   ]
  },
  {
   "cell_type": "code",
   "execution_count": 8,
   "metadata": {},
   "outputs": [
    {
     "name": "stdout",
     "output_type": "stream",
     "text": [
      "In DNA_1, there are 100 adenine bases, while in DNA_2 the number of adenine bases is 33.\n"
     ]
    }
   ],
   "source": [
    "# First task: identify how many Adenine bases we have in both DNA_1 and DNA_2\n",
    "adenine_in_dna_1 = base_counting(dna_1,'A')\n",
    "adenine_in_dna_2 = base_counting(dna_2,'A')\n",
    "\n",
    "print('In DNA_1, there are %i adenine bases, while in DNA_2 the number of adenine bases is %i.' %(adenine_in_dna_1, adenine_in_dna_2))"
   ]
  },
  {
   "cell_type": "code",
   "execution_count": 9,
   "metadata": {},
   "outputs": [
    {
     "name": "stdout",
     "output_type": "stream",
     "text": [
      "The number of AA bases in DNA_1 is 99\n",
      "The number of AA bases in DNA_2 is 14\n"
     ]
    }
   ],
   "source": [
    "# Second task: count the number of two bases fragments in a specific DNA\n",
    "\n",
    "fragment = 'AA'\n",
    "AA_fragments_in_dna_1 = fragments_counting(dna_1, fragment)\n",
    "AA_fragments_in_dna_2 = fragments_counting(dna_2, fragment)\n",
    "\n",
    "print('The number of '+fragment+' bases in DNA_1 is %i' %AA_fragments_in_dna_1)\n",
    "print('The number of '+fragment+' bases in DNA_2 is %i' %AA_fragments_in_dna_2)"
   ]
  }
 ],
 "metadata": {
  "kernelspec": {
   "display_name": "Python 3",
   "language": "python",
   "name": "python3"
  },
  "language_info": {
   "codemirror_mode": {
    "name": "ipython",
    "version": 3
   },
   "file_extension": ".py",
   "mimetype": "text/x-python",
   "name": "python",
   "nbconvert_exporter": "python",
   "pygments_lexer": "ipython3",
   "version": "3.8.3"
  }
 },
 "nbformat": 4,
 "nbformat_minor": 4
}
