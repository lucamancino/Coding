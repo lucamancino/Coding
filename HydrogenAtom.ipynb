{
 "cells": [
  {
   "cell_type": "code",
   "execution_count": 1,
   "metadata": {},
   "outputs": [],
   "source": [
    "# Compute energy levels in a hydrogen atom \n",
    "\n",
    "# In 1913, Bohr obtained the energy levels of the hydrogen atom after making a number of simple assumptions in order to correct the failed classical model. \n",
    "# The assumptions included: \n",
    "\n",
    "# 1. Electons can only be in certain, discrete orbits or stationary states, thereby having a discrete set of energies; \n",
    "# 2. Electrons do not emit radiation while in one of these stationary states; \n",
    "# 3. An electron can gain or lose energy by jumping from one discrete orbit to another. "
   ]
  },
  {
   "cell_type": "code",
   "execution_count": 2,
   "metadata": {},
   "outputs": [],
   "source": [
    "import math \n",
    "import numpy as np "
   ]
  },
  {
   "cell_type": "code",
   "execution_count": 3,
   "metadata": {},
   "outputs": [],
   "source": [
    "m_e = 9.1094*math.pow(10,-31) \n",
    "charge = 1.6022*math.pow(10,-19)\n",
    "perm = 8.8542*math.pow(10,-12)\n",
    "hplanck = 6.6261*math.pow(10,-34)\n",
    "\n",
    "conv_factor = 1.602*math.pow(10,-19) # 1 eV in J "
   ]
  },
  {
   "cell_type": "code",
   "execution_count": 4,
   "metadata": {},
   "outputs": [],
   "source": [
    "# n-th energy level for an electron in a hydrogen atom\n",
    "\n",
    "level = [i for i in range(1,20)] # Levels\n",
    "E_n = [- (m_e*math.pow(charge,4))/(8*math.pow(perm,2)*math.pow(hplanck,2))*(1/math.pow(n,2)) for n in level] # Energy in J \n",
    "\n",
    "E_n_eV = [i/conv_factor for i in E_n] # Energy in eV"
   ]
  },
  {
   "cell_type": "code",
   "execution_count": 7,
   "metadata": {},
   "outputs": [],
   "source": [
    "# Transition energies in eV \n",
    "transition_energies = [];\n",
    "\n",
    "for jj in np.arange(0,len(E_n_eV)-1):\n",
    "    transition_energies.append(E_n_eV[jj+1] - E_n_eV[jj])"
   ]
  },
  {
   "cell_type": "code",
   "execution_count": null,
   "metadata": {},
   "outputs": [],
   "source": []
  }
 ],
 "metadata": {
  "kernelspec": {
   "display_name": "Python 3",
   "language": "python",
   "name": "python3"
  },
  "language_info": {
   "codemirror_mode": {
    "name": "ipython",
    "version": 3
   },
   "file_extension": ".py",
   "mimetype": "text/x-python",
   "name": "python",
   "nbconvert_exporter": "python",
   "pygments_lexer": "ipython3",
   "version": "3.8.3"
  }
 },
 "nbformat": 4,
 "nbformat_minor": 4
}
